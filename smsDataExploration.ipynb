{
 "cells": [
  {
   "cell_type": "markdown",
   "metadata": {},
   "source": [
    "# Siddharth Shakya\n",
    "### SMS Filtering\n",
    "### 1. Data Exploration :\n"
   ]
  },
  {
   "cell_type": "markdown",
   "metadata": {},
   "source": [
    "### 1.1 Check For Class Imbalance"
   ]
  },
  {
   "cell_type": "code",
   "execution_count": 2,
   "metadata": {},
   "outputs": [],
   "source": [
    "import sklearn\n",
    "import pandas as pd\n",
    "from IPython.display import display"
   ]
  },
  {
   "cell_type": "code",
   "execution_count": 3,
   "metadata": {},
   "outputs": [
    {
     "data": {
      "text/html": [
       "<div>\n",
       "<style scoped>\n",
       "    .dataframe tbody tr th:only-of-type {\n",
       "        vertical-align: middle;\n",
       "    }\n",
       "\n",
       "    .dataframe tbody tr th {\n",
       "        vertical-align: top;\n",
       "    }\n",
       "\n",
       "    .dataframe thead th {\n",
       "        text-align: right;\n",
       "    }\n",
       "</style>\n",
       "<table border=\"1\" class=\"dataframe\">\n",
       "  <thead>\n",
       "    <tr style=\"text-align: right;\">\n",
       "      <th></th>\n",
       "      <th>Label</th>\n",
       "      <th>Message</th>\n",
       "    </tr>\n",
       "  </thead>\n",
       "  <tbody>\n",
       "    <tr>\n",
       "      <th>0</th>\n",
       "      <td>ham</td>\n",
       "      <td>oh how abt 2 days before Christmas</td>\n",
       "    </tr>\n",
       "    <tr>\n",
       "      <th>1</th>\n",
       "      <td>info</td>\n",
       "      <td>Welcome to OVATION HOLD R.No. 184, 114, 395, 3...</td>\n",
       "    </tr>\n",
       "    <tr>\n",
       "      <th>2</th>\n",
       "      <td>info</td>\n",
       "      <td>Thank you for using your ICICI bank CREDITcard...</td>\n",
       "    </tr>\n",
       "    <tr>\n",
       "      <th>3</th>\n",
       "      <td>ham</td>\n",
       "      <td>schedule a meeting with the entire team in the...</td>\n",
       "    </tr>\n",
       "    <tr>\n",
       "      <th>4</th>\n",
       "      <td>ham</td>\n",
       "      <td>Tommy is my brother</td>\n",
       "    </tr>\n",
       "  </tbody>\n",
       "</table>\n",
       "</div>"
      ],
      "text/plain": [
       "  Label                                            Message\n",
       "0   ham                 oh how abt 2 days before Christmas\n",
       "1  info  Welcome to OVATION HOLD R.No. 184, 114, 395, 3...\n",
       "2  info  Thank you for using your ICICI bank CREDITcard...\n",
       "3   ham  schedule a meeting with the entire team in the...\n",
       "4   ham                                Tommy is my brother"
      ]
     },
     "execution_count": 3,
     "metadata": {},
     "output_type": "execute_result"
    }
   ],
   "source": [
    "smsData = pd.read_csv('C:\\\\DataSets\\\\SmsSpam\\\\TRAIN_SMS.csv',encoding = \"ISO-8859-1\")\n",
    "smsData.head()"
   ]
  },
  {
   "cell_type": "code",
   "execution_count": 4,
   "metadata": {},
   "outputs": [
    {
     "name": "stdout",
     "output_type": "stream",
     "text": [
      "Labels :  ['ham' 'info' 'spam']\n"
     ]
    },
    {
     "data": {
      "text/plain": [
       "3"
      ]
     },
     "metadata": {},
     "output_type": "display_data"
    },
    {
     "name": "stdout",
     "output_type": "stream",
     "text": [
      "Class Frequency In Data :\n"
     ]
    },
    {
     "data": {
      "text/plain": [
       "info    0.445833\n",
       "ham     0.333333\n",
       "spam    0.220833\n",
       "Name: Label, dtype: float64"
      ]
     },
     "metadata": {},
     "output_type": "display_data"
    }
   ],
   "source": [
    "print(\"Labels : \",smsData['Label'].unique())\n",
    "display(smsData['Label'].unique().size)\n",
    "print(\"Class Frequency In Data :\")\n",
    "display(smsData['Label'].value_counts()/smsData['Label'].count())"
   ]
  },
  {
   "cell_type": "markdown",
   "metadata": {},
   "source": [
    "#### Spam messages are only 22% of data, there is class imbalance"
   ]
  },
  {
   "cell_type": "markdown",
   "metadata": {},
   "source": [
    "### 1.2 Quick Glance Over Dataset"
   ]
  },
  {
   "cell_type": "code",
   "execution_count": 5,
   "metadata": {
    "scrolled": false
   },
   "outputs": [],
   "source": [
    "spamMsgs = smsData[smsData['Label']=='spam']\n",
    "hamMsgs = smsData[smsData['Label']=='ham']\n",
    "infoMsgs = smsData[smsData['Label']=='info']\n",
    "#display(spamMsgs)\n",
    "#display(infoMsgs)\n",
    "#display(hamMsgs)"
   ]
  },
  {
   "cell_type": "markdown",
   "metadata": {},
   "source": [
    "##### A quick scroll over messages of different class indicates that spam and info messages are more similar to each other as opposed to ham. \n",
    "##### Spam and Info both seem be sent from some company to their customer, wheras ham seems more like a snippet from a chat between people who knew each other and is more cleaner to look at with realatively less special and numeric characters.\n",
    "##### It might be easier to distigusih ham from other messages, but realatively harder to distinguish spam and info from each other. "
   ]
  },
  {
   "cell_type": "code",
   "execution_count": 6,
   "metadata": {},
   "outputs": [
    {
     "data": {
      "text/html": [
       "<div>\n",
       "<style scoped>\n",
       "    .dataframe tbody tr th:only-of-type {\n",
       "        vertical-align: middle;\n",
       "    }\n",
       "\n",
       "    .dataframe tbody tr th {\n",
       "        vertical-align: top;\n",
       "    }\n",
       "\n",
       "    .dataframe thead tr th {\n",
       "        text-align: left;\n",
       "    }\n",
       "\n",
       "    .dataframe thead tr:last-of-type th {\n",
       "        text-align: right;\n",
       "    }\n",
       "</style>\n",
       "<table border=\"1\" class=\"dataframe\">\n",
       "  <thead>\n",
       "    <tr>\n",
       "      <th></th>\n",
       "      <th colspan=\"4\" halign=\"left\">Message</th>\n",
       "    </tr>\n",
       "    <tr>\n",
       "      <th></th>\n",
       "      <th>count</th>\n",
       "      <th>unique</th>\n",
       "      <th>top</th>\n",
       "      <th>freq</th>\n",
       "    </tr>\n",
       "    <tr>\n",
       "      <th>Label</th>\n",
       "      <th></th>\n",
       "      <th></th>\n",
       "      <th></th>\n",
       "      <th></th>\n",
       "    </tr>\n",
       "  </thead>\n",
       "  <tbody>\n",
       "    <tr>\n",
       "      <th>ham</th>\n",
       "      <td>10000</td>\n",
       "      <td>9977</td>\n",
       "      <td>When n where is the 97th Canadian Chemistry Co...</td>\n",
       "      <td>2</td>\n",
       "    </tr>\n",
       "    <tr>\n",
       "      <th>info</th>\n",
       "      <td>13375</td>\n",
       "      <td>13375</td>\n",
       "      <td>Repair ref.no for your car is JC55257167 opene...</td>\n",
       "      <td>1</td>\n",
       "    </tr>\n",
       "    <tr>\n",
       "      <th>spam</th>\n",
       "      <td>6625</td>\n",
       "      <td>6569</td>\n",
       "      <td>Delivered: Your package withStories of Tenali ...</td>\n",
       "      <td>4</td>\n",
       "    </tr>\n",
       "  </tbody>\n",
       "</table>\n",
       "</div>"
      ],
      "text/plain": [
       "      Message                                                               \n",
       "        count unique                                                top freq\n",
       "Label                                                                       \n",
       "ham     10000   9977  When n where is the 97th Canadian Chemistry Co...    2\n",
       "info    13375  13375  Repair ref.no for your car is JC55257167 opene...    1\n",
       "spam     6625   6569  Delivered: Your package withStories of Tenali ...    4"
      ]
     },
     "metadata": {},
     "output_type": "display_data"
    }
   ],
   "source": [
    "display(smsData.groupby('Label').describe())"
   ]
  },
  {
   "cell_type": "markdown",
   "metadata": {},
   "source": [
    "### 1.3 Is Message Length Helpful ?"
   ]
  },
  {
   "cell_type": "code",
   "execution_count": 7,
   "metadata": {
    "scrolled": false
   },
   "outputs": [
    {
     "data": {
      "text/html": [
       "<div>\n",
       "<style scoped>\n",
       "    .dataframe tbody tr th:only-of-type {\n",
       "        vertical-align: middle;\n",
       "    }\n",
       "\n",
       "    .dataframe tbody tr th {\n",
       "        vertical-align: top;\n",
       "    }\n",
       "\n",
       "    .dataframe thead th {\n",
       "        text-align: right;\n",
       "    }\n",
       "</style>\n",
       "<table border=\"1\" class=\"dataframe\">\n",
       "  <thead>\n",
       "    <tr style=\"text-align: right;\">\n",
       "      <th></th>\n",
       "      <th>Label</th>\n",
       "      <th>Message</th>\n",
       "      <th>length</th>\n",
       "    </tr>\n",
       "  </thead>\n",
       "  <tbody>\n",
       "    <tr>\n",
       "      <th>0</th>\n",
       "      <td>ham</td>\n",
       "      <td>oh how abt 2 days before Christmas</td>\n",
       "      <td>34</td>\n",
       "    </tr>\n",
       "    <tr>\n",
       "      <th>1</th>\n",
       "      <td>info</td>\n",
       "      <td>Welcome to OVATION HOLD R.No. 184, 114, 395, 3...</td>\n",
       "      <td>95</td>\n",
       "    </tr>\n",
       "    <tr>\n",
       "      <th>2</th>\n",
       "      <td>info</td>\n",
       "      <td>Thank you for using your ICICI bank CREDITcard...</td>\n",
       "      <td>115</td>\n",
       "    </tr>\n",
       "    <tr>\n",
       "      <th>3</th>\n",
       "      <td>ham</td>\n",
       "      <td>schedule a meeting with the entire team in the...</td>\n",
       "      <td>62</td>\n",
       "    </tr>\n",
       "    <tr>\n",
       "      <th>4</th>\n",
       "      <td>ham</td>\n",
       "      <td>Tommy is my brother</td>\n",
       "      <td>19</td>\n",
       "    </tr>\n",
       "  </tbody>\n",
       "</table>\n",
       "</div>"
      ],
      "text/plain": [
       "  Label                                            Message  length\n",
       "0   ham                 oh how abt 2 days before Christmas      34\n",
       "1  info  Welcome to OVATION HOLD R.No. 184, 114, 395, 3...      95\n",
       "2  info  Thank you for using your ICICI bank CREDITcard...     115\n",
       "3   ham  schedule a meeting with the entire team in the...      62\n",
       "4   ham                                Tommy is my brother      19"
      ]
     },
     "metadata": {},
     "output_type": "display_data"
    },
    {
     "data": {
      "text/html": [
       "<div>\n",
       "<style scoped>\n",
       "    .dataframe tbody tr th:only-of-type {\n",
       "        vertical-align: middle;\n",
       "    }\n",
       "\n",
       "    .dataframe tbody tr th {\n",
       "        vertical-align: top;\n",
       "    }\n",
       "\n",
       "    .dataframe thead tr th {\n",
       "        text-align: left;\n",
       "    }\n",
       "\n",
       "    .dataframe thead tr:last-of-type th {\n",
       "        text-align: right;\n",
       "    }\n",
       "</style>\n",
       "<table border=\"1\" class=\"dataframe\">\n",
       "  <thead>\n",
       "    <tr>\n",
       "      <th></th>\n",
       "      <th colspan=\"8\" halign=\"left\">length</th>\n",
       "    </tr>\n",
       "    <tr>\n",
       "      <th></th>\n",
       "      <th>count</th>\n",
       "      <th>mean</th>\n",
       "      <th>std</th>\n",
       "      <th>min</th>\n",
       "      <th>25%</th>\n",
       "      <th>50%</th>\n",
       "      <th>75%</th>\n",
       "      <th>max</th>\n",
       "    </tr>\n",
       "    <tr>\n",
       "      <th>Label</th>\n",
       "      <th></th>\n",
       "      <th></th>\n",
       "      <th></th>\n",
       "      <th></th>\n",
       "      <th></th>\n",
       "      <th></th>\n",
       "      <th></th>\n",
       "      <th></th>\n",
       "    </tr>\n",
       "  </thead>\n",
       "  <tbody>\n",
       "    <tr>\n",
       "      <th>ham</th>\n",
       "      <td>10000.0</td>\n",
       "      <td>37.980900</td>\n",
       "      <td>18.887832</td>\n",
       "      <td>7.0</td>\n",
       "      <td>25.0</td>\n",
       "      <td>34.0</td>\n",
       "      <td>46.0</td>\n",
       "      <td>310.0</td>\n",
       "    </tr>\n",
       "    <tr>\n",
       "      <th>info</th>\n",
       "      <td>13375.0</td>\n",
       "      <td>163.831925</td>\n",
       "      <td>55.802155</td>\n",
       "      <td>71.0</td>\n",
       "      <td>135.0</td>\n",
       "      <td>151.0</td>\n",
       "      <td>175.0</td>\n",
       "      <td>359.0</td>\n",
       "    </tr>\n",
       "    <tr>\n",
       "      <th>spam</th>\n",
       "      <td>6625.0</td>\n",
       "      <td>139.638340</td>\n",
       "      <td>54.318755</td>\n",
       "      <td>32.0</td>\n",
       "      <td>113.0</td>\n",
       "      <td>138.0</td>\n",
       "      <td>167.0</td>\n",
       "      <td>768.0</td>\n",
       "    </tr>\n",
       "  </tbody>\n",
       "</table>\n",
       "</div>"
      ],
      "text/plain": [
       "        length                                                         \n",
       "         count        mean        std   min    25%    50%    75%    max\n",
       "Label                                                                  \n",
       "ham    10000.0   37.980900  18.887832   7.0   25.0   34.0   46.0  310.0\n",
       "info   13375.0  163.831925  55.802155  71.0  135.0  151.0  175.0  359.0\n",
       "spam    6625.0  139.638340  54.318755  32.0  113.0  138.0  167.0  768.0"
      ]
     },
     "metadata": {},
     "output_type": "display_data"
    },
    {
     "data": {
      "text/plain": [
       "array([[<matplotlib.axes._subplots.AxesSubplot object at 0x0000013E1A6BAC18>,\n",
       "        <matplotlib.axes._subplots.AxesSubplot object at 0x0000013E1A710198>],\n",
       "       [<matplotlib.axes._subplots.AxesSubplot object at 0x0000013E1A72A710>,\n",
       "        <matplotlib.axes._subplots.AxesSubplot object at 0x0000013E1A743C88>]],\n",
       "      dtype=object)"
      ]
     },
     "execution_count": 7,
     "metadata": {},
     "output_type": "execute_result"
    },
    {
     "data": {
      "image/png": "[encoded data removed]",
      "text/plain": [
       "<Figure size 432x288 with 4 Axes>"
      ]
     },
     "metadata": {
      "needs_background": "light"
     },
     "output_type": "display_data"
    }
   ],
   "source": [
    "smsData['length'] = smsData['Message'].map(lambda msg: len(msg))\n",
    "display(smsData.head())\n",
    "display(smsData.groupby('Label').describe())\n",
    "%matplotlib inline\n",
    "smsData.hist(column='length', by='Label', bins=30)"
   ]
  },
  {
   "cell_type": "markdown",
   "metadata": {},
   "source": [
    "#### We see that summary statistics for length of spam and info are closer to each other compared to ham messages. Histogram plots also suggest the difference in length distribution for different classes. So length of the messages seems to be helpful feature to include in training dataset"
   ]
  },
  {
   "cell_type": "markdown",
   "metadata": {},
   "source": [
    "### 1.4 Are First Words Of Messages Informative ?"
   ]
  },
  {
   "cell_type": "code",
   "execution_count": 8,
   "metadata": {
    "scrolled": false
   },
   "outputs": [
    {
     "name": "stdout",
     "output_type": "stream",
     "text": [
      "\n",
      "spam : \n"
     ]
    },
    {
     "data": {
      "text/plain": [
       "count     6625\n",
       "unique     756\n",
       "top       Dear\n",
       "freq      2213\n",
       "Name: Message, dtype: object"
      ]
     },
     "metadata": {},
     "output_type": "display_data"
    },
    {
     "name": "stdout",
     "output_type": "stream",
     "text": [
      "\n",
      "info : \n"
     ]
    },
    {
     "data": {
      "text/plain": [
       "count     13375\n",
       "unique     1857\n",
       "top       Thank\n",
       "freq       1375\n",
       "Name: Message, dtype: object"
      ]
     },
     "metadata": {},
     "output_type": "display_data"
    },
    {
     "name": "stdout",
     "output_type": "stream",
     "text": [
      "\n",
      "ham : \n"
     ]
    },
    {
     "data": {
      "text/plain": [
       "count     10000\n",
       "unique     1709\n",
       "top           i\n",
       "freq        684\n",
       "Name: Message, dtype: object"
      ]
     },
     "metadata": {},
     "output_type": "display_data"
    }
   ],
   "source": [
    "spamFirstWord = spamMsgs['Message'].map(lambda msg: msg.split(' ')[0])\n",
    "infoFirstWord = infoMsgs['Message'].map(lambda msg: msg.split(' ')[0])\n",
    "hamFirstWord  = hamMsgs['Message'].map(lambda msg: msg.split(' ')[0])\n",
    "print('\\nspam : ')\n",
    "display(spamFirstWord.describe())\n",
    "spam30 = spamFirstWord.value_counts()[0:30]\n",
    "#display(list(spam30.index))\n",
    "\n",
    "print('\\ninfo : ')\n",
    "display(infoFirstWord.describe())\n",
    "info30 = infoFirstWord.value_counts()[0:30]\n",
    "#display(list(info30.index))\n",
    "\n",
    "print('\\nham : ')\n",
    "display(hamFirstWord.describe())\n",
    "ham30 = hamFirstWord.value_counts()[0:30]\n",
    "#display(list(ham30.index))"
   ]
  },
  {
   "cell_type": "markdown",
   "metadata": {},
   "source": [
    "#### High frequency first words (ignoring stop words) in different classes seem to be of the same type, with most of them being greetings like hi, dear,  etc.. or peson's name, so this doesn't seem to be helpful.\n",
    "\n",
    "### Next thing to explore would be frequency of special characters, stop words and all capitalized words etc. in sentences of different classes"
   ]
  },
  {
   "cell_type": "code",
   "execution_count": 9,
   "metadata": {
    "scrolled": true
   },
   "outputs": [],
   "source": [
    "import nltk as nl\n",
    "import nltk.data as nd\n",
    "from nltk.corpus import stopwords\n",
    "\n",
    "\n",
    "sMsgs = spamMsgs['Message']\n",
    "#display(sMsgs)\n",
    "hMsgs = hamMsgs['Message']\n",
    "#display(hMsgs)\n",
    "iMsgs = infoMsgs['Message']\n",
    "#display(iMsgs)\n",
    "\n",
    "''' Fraction Of Stop Words In Messages :\n",
    "    In vector representation stop words will be removed but possibly\n",
    "    their distribution could differ in sentences of different classes\n",
    "    and may be a good feature\n",
    "    \n",
    "    Fraction Of Special Characters In Messages :\n",
    "    It is expected that there will be fewer Special Characters in info\n",
    "    messages compared to spam and ham\n",
    "    \n",
    "'''\n",
    "\n",
    "stopwordList = list(stopwords.words('english')) # Stopwords\n",
    "spclCharList = ['#','^','!','(',')','`','~','%','/','\\\\' ,'{','}',']','[']\n",
    "\n",
    "spamStopCountFrac=[]\n",
    "spamSpclCountFrac=[]\n",
    "\n",
    "hamStopCountFrac=[]\n",
    "hamSpclCountFrac=[]\n",
    "\n",
    "infoStopCountFrac=[]\n",
    "infoSpclCountFrac=[]\n",
    "\n",
    "for msg in sMsgs:\n",
    "    stopCount=0\n",
    "    stopCountFrac=0\n",
    "    spclCount=0\n",
    "    spclCountFrac=0\n",
    "    \n",
    "    msgTokens = nl.word_tokenize(msg)\n",
    "    for sw in stopwordList:\n",
    "        stopCount = stopCount + msgTokens.count(sw)\n",
    "    \n",
    "    for sp in spclCharList:\n",
    "        spclCount = spclCount + msg.count(sp)\n",
    "    \n",
    "    stopCountFrac=stopCount/len(msgTokens)\n",
    "    spclCountFrac=spclCount/len(msg)\n",
    "    \n",
    "    spamStopCountFrac.append(stopCountFrac)\n",
    "    spamSpclCountFrac.append(spclCountFrac)\n",
    "\n",
    "\n",
    "for msg in hMsgs:\n",
    "    stopCount=0\n",
    "    stopCountFrac=0\n",
    "    spclCount=0\n",
    "    spclCountFrac=0\n",
    "    \n",
    "    msgTokens = nl.word_tokenize(msg)\n",
    "    for sw in stopwordList:\n",
    "        stopCount = stopCount + msgTokens.count(sw)\n",
    "\n",
    "    for sp in spclCharList:\n",
    "        spclCount = spclCount + msg.count(sp)\n",
    "    \n",
    "    \n",
    "    stopCountFrac=stopCount/len(msgTokens)\n",
    "    spclCountFrac=spclCount/len(msg)\n",
    "    \n",
    "    hamStopCountFrac.append(stopCountFrac)\n",
    "    hamSpclCountFrac.append(spclCountFrac)\n",
    "\n",
    "for msg in iMsgs:\n",
    "    stopCount=0\n",
    "    stopCountFrac=0\n",
    "    spclCount=0\n",
    "    spclCountFrac=0\n",
    "    \n",
    "    msgTokens = nl.word_tokenize(msg)\n",
    "    for sw in stopwordList:\n",
    "        stopCount = stopCount + msgTokens.count(sw)\n",
    "\n",
    "    for sp in spclCharList:\n",
    "        spclCount = spclCount + msg.count(sp)\n",
    "    \n",
    "    stopCountFrac=stopCount/len(msgTokens)\n",
    "    spclCountFrac=spclCount/len(msg)\n",
    "    \n",
    "    infoStopCountFrac.append(stopCountFrac)\n",
    "    infoSpclCountFrac.append(spclCountFrac)"
   ]
  },
  {
   "cell_type": "markdown",
   "metadata": {},
   "source": [
    "### 1.5 Fraction Of Stop Words"
   ]
  },
  {
   "cell_type": "code",
   "execution_count": 10,
   "metadata": {},
   "outputs": [
    {
     "data": {
      "text/html": [
       "<div>\n",
       "<style scoped>\n",
       "    .dataframe tbody tr th:only-of-type {\n",
       "        vertical-align: middle;\n",
       "    }\n",
       "\n",
       "    .dataframe tbody tr th {\n",
       "        vertical-align: top;\n",
       "    }\n",
       "\n",
       "    .dataframe thead th {\n",
       "        text-align: right;\n",
       "    }\n",
       "</style>\n",
       "<table border=\"1\" class=\"dataframe\">\n",
       "  <thead>\n",
       "    <tr style=\"text-align: right;\">\n",
       "      <th></th>\n",
       "      <th>infoStopCountFrac</th>\n",
       "    </tr>\n",
       "  </thead>\n",
       "  <tbody>\n",
       "    <tr>\n",
       "      <th>count</th>\n",
       "      <td>13375.000000</td>\n",
       "    </tr>\n",
       "    <tr>\n",
       "      <th>mean</th>\n",
       "      <td>0.188914</td>\n",
       "    </tr>\n",
       "    <tr>\n",
       "      <th>std</th>\n",
       "      <td>0.110322</td>\n",
       "    </tr>\n",
       "    <tr>\n",
       "      <th>min</th>\n",
       "      <td>0.000000</td>\n",
       "    </tr>\n",
       "    <tr>\n",
       "      <th>25%</th>\n",
       "      <td>0.071429</td>\n",
       "    </tr>\n",
       "    <tr>\n",
       "      <th>50%</th>\n",
       "      <td>0.187500</td>\n",
       "    </tr>\n",
       "    <tr>\n",
       "      <th>75%</th>\n",
       "      <td>0.303030</td>\n",
       "    </tr>\n",
       "    <tr>\n",
       "      <th>max</th>\n",
       "      <td>0.406250</td>\n",
       "    </tr>\n",
       "  </tbody>\n",
       "</table>\n",
       "</div>"
      ],
      "text/plain": [
       "       infoStopCountFrac\n",
       "count       13375.000000\n",
       "mean            0.188914\n",
       "std             0.110322\n",
       "min             0.000000\n",
       "25%             0.071429\n",
       "50%             0.187500\n",
       "75%             0.303030\n",
       "max             0.406250"
      ]
     },
     "metadata": {},
     "output_type": "display_data"
    },
    {
     "name": "stderr",
     "output_type": "stream",
     "text": [
      "g:\\anaconda3\\envs\\python35\\lib\\site-packages\\matplotlib\\axes\\_axes.py:6510: MatplotlibDeprecationWarning: \n",
      "The 'normed' kwarg was deprecated in Matplotlib 2.1 and will be removed in 3.1. Use 'density' instead.\n",
      "  alternative=\"'density'\", removal=\"3.1\")\n"
     ]
    },
    {
     "data": {
      "text/html": [
       "<div>\n",
       "<style scoped>\n",
       "    .dataframe tbody tr th:only-of-type {\n",
       "        vertical-align: middle;\n",
       "    }\n",
       "\n",
       "    .dataframe tbody tr th {\n",
       "        vertical-align: top;\n",
       "    }\n",
       "\n",
       "    .dataframe thead th {\n",
       "        text-align: right;\n",
       "    }\n",
       "</style>\n",
       "<table border=\"1\" class=\"dataframe\">\n",
       "  <thead>\n",
       "    <tr style=\"text-align: right;\">\n",
       "      <th></th>\n",
       "      <th>hamStopCountFrac</th>\n",
       "    </tr>\n",
       "  </thead>\n",
       "  <tbody>\n",
       "    <tr>\n",
       "      <th>count</th>\n",
       "      <td>10000.000000</td>\n",
       "    </tr>\n",
       "    <tr>\n",
       "      <th>mean</th>\n",
       "      <td>0.317470</td>\n",
       "    </tr>\n",
       "    <tr>\n",
       "      <th>std</th>\n",
       "      <td>0.154166</td>\n",
       "    </tr>\n",
       "    <tr>\n",
       "      <th>min</th>\n",
       "      <td>0.000000</td>\n",
       "    </tr>\n",
       "    <tr>\n",
       "      <th>25%</th>\n",
       "      <td>0.210526</td>\n",
       "    </tr>\n",
       "    <tr>\n",
       "      <th>50%</th>\n",
       "      <td>0.333333</td>\n",
       "    </tr>\n",
       "    <tr>\n",
       "      <th>75%</th>\n",
       "      <td>0.428571</td>\n",
       "    </tr>\n",
       "    <tr>\n",
       "      <th>max</th>\n",
       "      <td>0.875000</td>\n",
       "    </tr>\n",
       "  </tbody>\n",
       "</table>\n",
       "</div>"
      ],
      "text/plain": [
       "       hamStopCountFrac\n",
       "count      10000.000000\n",
       "mean           0.317470\n",
       "std            0.154166\n",
       "min            0.000000\n",
       "25%            0.210526\n",
       "50%            0.333333\n",
       "75%            0.428571\n",
       "max            0.875000"
      ]
     },
     "metadata": {},
     "output_type": "display_data"
    },
    {
     "data": {
      "text/html": [
       "<div>\n",
       "<style scoped>\n",
       "    .dataframe tbody tr th:only-of-type {\n",
       "        vertical-align: middle;\n",
       "    }\n",
       "\n",
       "    .dataframe tbody tr th {\n",
       "        vertical-align: top;\n",
       "    }\n",
       "\n",
       "    .dataframe thead th {\n",
       "        text-align: right;\n",
       "    }\n",
       "</style>\n",
       "<table border=\"1\" class=\"dataframe\">\n",
       "  <thead>\n",
       "    <tr style=\"text-align: right;\">\n",
       "      <th></th>\n",
       "      <th>spamStopCountFrac</th>\n",
       "    </tr>\n",
       "  </thead>\n",
       "  <tbody>\n",
       "    <tr>\n",
       "      <th>count</th>\n",
       "      <td>6625.000000</td>\n",
       "    </tr>\n",
       "    <tr>\n",
       "      <th>mean</th>\n",
       "      <td>0.212157</td>\n",
       "    </tr>\n",
       "    <tr>\n",
       "      <th>std</th>\n",
       "      <td>0.096600</td>\n",
       "    </tr>\n",
       "    <tr>\n",
       "      <th>min</th>\n",
       "      <td>0.000000</td>\n",
       "    </tr>\n",
       "    <tr>\n",
       "      <th>25%</th>\n",
       "      <td>0.148148</td>\n",
       "    </tr>\n",
       "    <tr>\n",
       "      <th>50%</th>\n",
       "      <td>0.200000</td>\n",
       "    </tr>\n",
       "    <tr>\n",
       "      <th>75%</th>\n",
       "      <td>0.292683</td>\n",
       "    </tr>\n",
       "    <tr>\n",
       "      <th>max</th>\n",
       "      <td>0.500000</td>\n",
       "    </tr>\n",
       "  </tbody>\n",
       "</table>\n",
       "</div>"
      ],
      "text/plain": [
       "       spamStopCountFrac\n",
       "count        6625.000000\n",
       "mean            0.212157\n",
       "std             0.096600\n",
       "min             0.000000\n",
       "25%             0.148148\n",
       "50%             0.200000\n",
       "75%             0.292683\n",
       "max             0.500000"
      ]
     },
     "metadata": {},
     "output_type": "display_data"
    },
    {
     "data": {
      "text/plain": [
       "Text(0.5, 1.0, 'Stop Word Fraction In Spam Messages')"
      ]
     },
     "execution_count": 10,
     "metadata": {},
     "output_type": "execute_result"
    },
    {
     "data": {
      "image/png": "[encoded data removed]",
      "text/plain": [
       "<Figure size 432x288 with 1 Axes>"
      ]
     },
     "metadata": {
      "needs_background": "light"
     },
     "output_type": "display_data"
    },
    {
     "data": {
      "image/png": "[encoded data removed]",
      "text/plain": [
       "<Figure size 432x288 with 1 Axes>"
      ]
     },
     "metadata": {
      "needs_background": "light"
     },
     "output_type": "display_data"
    },
    {
     "data": {
      "image/png": "[encoded data removed]",
      "text/plain": [
       "<Figure size 432x288 with 1 Axes>"
      ]
     },
     "metadata": {
      "needs_background": "light"
     },
     "output_type": "display_data"
    }
   ],
   "source": [
    "%matplotlib inline\n",
    "from matplotlib import pyplot as plt\n",
    "\n",
    "display(pd.DataFrame(infoStopCountFrac,columns=['infoStopCountFrac']).describe())\n",
    "plt.hist(infoStopCountFrac, normed=True, bins=50)\n",
    "plt.title('Stop Word Fraction In Info Messages')\n",
    "\n",
    "plt.figure()\n",
    "\n",
    "display(pd.DataFrame(hamStopCountFrac,columns=['hamStopCountFrac']).describe())\n",
    "plt.hist(hamStopCountFrac, normed=True, bins=40)\n",
    "plt.title('Stop Word Fraction In Ham Messages')\n",
    "\n",
    "plt.figure()\n",
    "\n",
    "display(pd.DataFrame(spamStopCountFrac,columns=['spamStopCountFrac']).describe())\n",
    "plt.hist(spamStopCountFrac, normed=True, bins=30)\n",
    "plt.title('Stop Word Fraction In Spam Messages')"
   ]
  },
  {
   "cell_type": "markdown",
   "metadata": {},
   "source": [
    "#### Above plots indicate that distrbution of fraction of stop words is different in different classes, hence fraction of stop words in a given sentence may be a good feature to include"
   ]
  },
  {
   "cell_type": "markdown",
   "metadata": {},
   "source": [
    "### 1.6 Fraction Of Special Character"
   ]
  },
  {
   "cell_type": "code",
   "execution_count": 11,
   "metadata": {},
   "outputs": [
    {
     "data": {
      "text/html": [
       "<div>\n",
       "<style scoped>\n",
       "    .dataframe tbody tr th:only-of-type {\n",
       "        vertical-align: middle;\n",
       "    }\n",
       "\n",
       "    .dataframe tbody tr th {\n",
       "        vertical-align: top;\n",
       "    }\n",
       "\n",
       "    .dataframe thead th {\n",
       "        text-align: right;\n",
       "    }\n",
       "</style>\n",
       "<table border=\"1\" class=\"dataframe\">\n",
       "  <thead>\n",
       "    <tr style=\"text-align: right;\">\n",
       "      <th></th>\n",
       "      <th>spamSpclCountFrac</th>\n",
       "    </tr>\n",
       "  </thead>\n",
       "  <tbody>\n",
       "    <tr>\n",
       "      <th>count</th>\n",
       "      <td>6625.000000</td>\n",
       "    </tr>\n",
       "    <tr>\n",
       "      <th>mean</th>\n",
       "      <td>0.008381</td>\n",
       "    </tr>\n",
       "    <tr>\n",
       "      <th>std</th>\n",
       "      <td>0.013037</td>\n",
       "    </tr>\n",
       "    <tr>\n",
       "      <th>min</th>\n",
       "      <td>0.000000</td>\n",
       "    </tr>\n",
       "    <tr>\n",
       "      <th>25%</th>\n",
       "      <td>0.000000</td>\n",
       "    </tr>\n",
       "    <tr>\n",
       "      <th>50%</th>\n",
       "      <td>0.000000</td>\n",
       "    </tr>\n",
       "    <tr>\n",
       "      <th>75%</th>\n",
       "      <td>0.018519</td>\n",
       "    </tr>\n",
       "    <tr>\n",
       "      <th>max</th>\n",
       "      <td>0.084906</td>\n",
       "    </tr>\n",
       "  </tbody>\n",
       "</table>\n",
       "</div>"
      ],
      "text/plain": [
       "       spamSpclCountFrac\n",
       "count        6625.000000\n",
       "mean            0.008381\n",
       "std             0.013037\n",
       "min             0.000000\n",
       "25%             0.000000\n",
       "50%             0.000000\n",
       "75%             0.018519\n",
       "max             0.084906"
      ]
     },
     "metadata": {},
     "output_type": "display_data"
    },
    {
     "data": {
      "text/html": [
       "<div>\n",
       "<style scoped>\n",
       "    .dataframe tbody tr th:only-of-type {\n",
       "        vertical-align: middle;\n",
       "    }\n",
       "\n",
       "    .dataframe tbody tr th {\n",
       "        vertical-align: top;\n",
       "    }\n",
       "\n",
       "    .dataframe thead th {\n",
       "        text-align: right;\n",
       "    }\n",
       "</style>\n",
       "<table border=\"1\" class=\"dataframe\">\n",
       "  <thead>\n",
       "    <tr style=\"text-align: right;\">\n",
       "      <th></th>\n",
       "      <th>hamSpclCountFrac</th>\n",
       "    </tr>\n",
       "  </thead>\n",
       "  <tbody>\n",
       "    <tr>\n",
       "      <th>count</th>\n",
       "      <td>10000.000000</td>\n",
       "    </tr>\n",
       "    <tr>\n",
       "      <th>mean</th>\n",
       "      <td>0.003377</td>\n",
       "    </tr>\n",
       "    <tr>\n",
       "      <th>std</th>\n",
       "      <td>0.016864</td>\n",
       "    </tr>\n",
       "    <tr>\n",
       "      <th>min</th>\n",
       "      <td>0.000000</td>\n",
       "    </tr>\n",
       "    <tr>\n",
       "      <th>25%</th>\n",
       "      <td>0.000000</td>\n",
       "    </tr>\n",
       "    <tr>\n",
       "      <th>50%</th>\n",
       "      <td>0.000000</td>\n",
       "    </tr>\n",
       "    <tr>\n",
       "      <th>75%</th>\n",
       "      <td>0.000000</td>\n",
       "    </tr>\n",
       "    <tr>\n",
       "      <th>max</th>\n",
       "      <td>0.950000</td>\n",
       "    </tr>\n",
       "  </tbody>\n",
       "</table>\n",
       "</div>"
      ],
      "text/plain": [
       "       hamSpclCountFrac\n",
       "count      10000.000000\n",
       "mean           0.003377\n",
       "std            0.016864\n",
       "min            0.000000\n",
       "25%            0.000000\n",
       "50%            0.000000\n",
       "75%            0.000000\n",
       "max            0.950000"
      ]
     },
     "metadata": {},
     "output_type": "display_data"
    },
    {
     "data": {
      "text/html": [
       "<div>\n",
       "<style scoped>\n",
       "    .dataframe tbody tr th:only-of-type {\n",
       "        vertical-align: middle;\n",
       "    }\n",
       "\n",
       "    .dataframe tbody tr th {\n",
       "        vertical-align: top;\n",
       "    }\n",
       "\n",
       "    .dataframe thead th {\n",
       "        text-align: right;\n",
       "    }\n",
       "</style>\n",
       "<table border=\"1\" class=\"dataframe\">\n",
       "  <thead>\n",
       "    <tr style=\"text-align: right;\">\n",
       "      <th></th>\n",
       "      <th>infoSpclCountFrac</th>\n",
       "    </tr>\n",
       "  </thead>\n",
       "  <tbody>\n",
       "    <tr>\n",
       "      <th>count</th>\n",
       "      <td>13375.000000</td>\n",
       "    </tr>\n",
       "    <tr>\n",
       "      <th>mean</th>\n",
       "      <td>0.006826</td>\n",
       "    </tr>\n",
       "    <tr>\n",
       "      <th>std</th>\n",
       "      <td>0.010047</td>\n",
       "    </tr>\n",
       "    <tr>\n",
       "      <th>min</th>\n",
       "      <td>0.000000</td>\n",
       "    </tr>\n",
       "    <tr>\n",
       "      <th>25%</th>\n",
       "      <td>0.000000</td>\n",
       "    </tr>\n",
       "    <tr>\n",
       "      <th>50%</th>\n",
       "      <td>0.000000</td>\n",
       "    </tr>\n",
       "    <tr>\n",
       "      <th>75%</th>\n",
       "      <td>0.012552</td>\n",
       "    </tr>\n",
       "    <tr>\n",
       "      <th>max</th>\n",
       "      <td>0.040323</td>\n",
       "    </tr>\n",
       "  </tbody>\n",
       "</table>\n",
       "</div>"
      ],
      "text/plain": [
       "       infoSpclCountFrac\n",
       "count       13375.000000\n",
       "mean            0.006826\n",
       "std             0.010047\n",
       "min             0.000000\n",
       "25%             0.000000\n",
       "50%             0.000000\n",
       "75%             0.012552\n",
       "max             0.040323"
      ]
     },
     "metadata": {},
     "output_type": "display_data"
    },
    {
     "data": {
      "text/plain": [
       "Text(0.5, 1.0, 'Special Char Fraction In Info Messages')"
      ]
     },
     "execution_count": 11,
     "metadata": {},
     "output_type": "execute_result"
    },
    {
     "data": {
      "image/png": "[encoded data removed]",
      "text/plain": [
       "<Figure size 432x288 with 1 Axes>"
      ]
     },
     "metadata": {
      "needs_background": "light"
     },
     "output_type": "display_data"
    },
    {
     "data": {
      "image/png": "[encoded data removed]",
      "text/plain": [
       "<Figure size 432x288 with 1 Axes>"
      ]
     },
     "metadata": {
      "needs_background": "light"
     },
     "output_type": "display_data"
    },
    {
     "data": {
      "image/png": "[encoded data removed]",
      "text/plain": [
       "<Figure size 432x288 with 1 Axes>"
      ]
     },
     "metadata": {
      "needs_background": "light"
     },
     "output_type": "display_data"
    }
   ],
   "source": [
    "display(pd.DataFrame(spamSpclCountFrac,columns=['spamSpclCountFrac']).describe())\n",
    "plt.hist(spamSpclCountFrac, normed=True, bins=30)\n",
    "plt.title(\"Special Char Fraction In Spam Messages\")\n",
    "\n",
    "display(pd.DataFrame(hamSpclCountFrac,columns=['hamSpclCountFrac']).describe())\n",
    "plt.figure()\n",
    "plt.hist(hamSpclCountFrac, normed=True, bins=40)\n",
    "plt.title(\"Special Char Fraction In Ham Messages\")\n",
    "\n",
    "display(pd.DataFrame(infoSpclCountFrac,columns=['infoSpclCountFrac']).describe())\n",
    "plt.figure()\n",
    "plt.hist(infoSpclCountFrac, normed=True, bins=50)\n",
    "plt.title(\"Special Char Fraction In Info Messages\")"
   ]
  },
  {
   "cell_type": "markdown",
   "metadata": {},
   "source": [
    "#### Visual inspection of above plot indicates that there is slight difference in distribution of special characters in messages from  different classes, with most of the mass concentrated around zero in all classes especially for ham-messages\n",
    "#### This might be a weak feature but hopefully be helpful in conjunction with other features"
   ]
  },
  {
   "cell_type": "markdown",
   "metadata": {},
   "source": [
    "## 1.7 Affinity Score Of Words For A Class Based On TF-IDF\n",
    "#### Motive here is to find words based on a score that may act as a weak/strong signature for a class of sentence. Identify Top K(=30) such words for each class and use their score*NumberOf_Occurence_In_Sentece as a feature for sentence representation. Each sentence gets one score for each class. This would be useful only if set of top words for different classes have low intersection"
   ]
  },
  {
   "cell_type": "code",
   "execution_count": 20,
   "metadata": {},
   "outputs": [],
   "source": [
    "#Remove stop words from all sentences\n",
    "\n",
    "cleaned = []\n",
    "for i in range(len(smsData['Message'])):\n",
    "    clean = smsData['Message'][i]\n",
    "    clean = clean.lower().split()\n",
    "    clean = [word for word in clean if word not in stopwordList]\n",
    "    clean = ' '.join(str(w) for w in clean)\n",
    "    #print(clean)\n",
    "    cleaned.append(clean)"
   ]
  },
  {
   "cell_type": "code",
   "execution_count": 23,
   "metadata": {},
   "outputs": [],
   "source": [
    "#smsData.insert(loc=2, column=\"Cleaned\", value=cleaned)"
   ]
  },
  {
   "cell_type": "code",
   "execution_count": 22,
   "metadata": {},
   "outputs": [
    {
     "data": {
      "text/html": [
       "<div>\n",
       "<style scoped>\n",
       "    .dataframe tbody tr th:only-of-type {\n",
       "        vertical-align: middle;\n",
       "    }\n",
       "\n",
       "    .dataframe tbody tr th {\n",
       "        vertical-align: top;\n",
       "    }\n",
       "\n",
       "    .dataframe thead th {\n",
       "        text-align: right;\n",
       "    }\n",
       "</style>\n",
       "<table border=\"1\" class=\"dataframe\">\n",
       "  <thead>\n",
       "    <tr style=\"text-align: right;\">\n",
       "      <th></th>\n",
       "      <th>Label</th>\n",
       "      <th>Message</th>\n",
       "      <th>Cleaned</th>\n",
       "      <th>length</th>\n",
       "    </tr>\n",
       "  </thead>\n",
       "  <tbody>\n",
       "    <tr>\n",
       "      <th>0</th>\n",
       "      <td>ham</td>\n",
       "      <td>oh how abt 2 days before Christmas</td>\n",
       "      <td>oh abt 2 days christmas</td>\n",
       "      <td>34</td>\n",
       "    </tr>\n",
       "    <tr>\n",
       "      <th>1</th>\n",
       "      <td>info</td>\n",
       "      <td>Welcome to OVATION HOLD R.No. 184, 114, 395, 3...</td>\n",
       "      <td>welcome ovation hold r.no. 184, 114, 395, 378 ...</td>\n",
       "      <td>95</td>\n",
       "    </tr>\n",
       "    <tr>\n",
       "      <th>2</th>\n",
       "      <td>info</td>\n",
       "      <td>Thank you for using your ICICI bank CREDITcard...</td>\n",
       "      <td>thank using icici bank creditcard ending 5253 ...</td>\n",
       "      <td>115</td>\n",
       "    </tr>\n",
       "    <tr>\n",
       "      <th>3</th>\n",
       "      <td>ham</td>\n",
       "      <td>schedule a meeting with the entire team in the...</td>\n",
       "      <td>schedule meeting entire team office tomorrow</td>\n",
       "      <td>62</td>\n",
       "    </tr>\n",
       "    <tr>\n",
       "      <th>4</th>\n",
       "      <td>ham</td>\n",
       "      <td>Tommy is my brother</td>\n",
       "      <td>tommy brother</td>\n",
       "      <td>19</td>\n",
       "    </tr>\n",
       "  </tbody>\n",
       "</table>\n",
       "</div>"
      ],
      "text/plain": [
       "  Label                                            Message  \\\n",
       "0   ham                 oh how abt 2 days before Christmas   \n",
       "1  info  Welcome to OVATION HOLD R.No. 184, 114, 395, 3...   \n",
       "2  info  Thank you for using your ICICI bank CREDITcard...   \n",
       "3   ham  schedule a meeting with the entire team in the...   \n",
       "4   ham                                Tommy is my brother   \n",
       "\n",
       "                                             Cleaned  length  \n",
       "0                            oh abt 2 days christmas      34  \n",
       "1  welcome ovation hold r.no. 184, 114, 395, 378 ...      95  \n",
       "2  thank using icici bank creditcard ending 5253 ...     115  \n",
       "3       schedule meeting entire team office tomorrow      62  \n",
       "4                                      tommy brother      19  "
      ]
     },
     "execution_count": 22,
     "metadata": {},
     "output_type": "execute_result"
    }
   ],
   "source": [
    "smsData.head()"
   ]
  },
  {
   "cell_type": "markdown",
   "metadata": {},
   "source": [
    "### Calculate log(Full_Corpus-IDF) * log(Class_Corpus-IDF) for each word for each class in the cleaned list of messages. Then we calculate a quantity, lets call it Apparent_Affinity_For_Class of the word, as log(Full_Corpus-IDF)/log(Class_Corpus-IDF).\n",
    "\n",
    "#### Above score : \n",
    "#### 1) very low for words that are common in corpus as well as class. \n",
    "#### 2) score for words Rare in both > Score for words Rare either in class or corpus\n",
    "\n",
    "#### Each word gets an Apparent_Affinity_For_Class  score for each class\n",
    "#### Affinity Score(word,Class) = word_freq_In_Class * Apparent_Affinity_For_Class\n",
    "#### Rare words indciate importance but possibly a word rare in corpus but common in class can be a signature for a particular class. Because we are multiplying with the word's frequency in a class, the words that are rare in corpus but common in class is likey to get higher score than the words that are common in corpus but rare in class, although Apparent_Affinity_For_Class will be higher for both types of words\n",
    "\n",
    "## Time Out Couldn't Code"
   ]
  }
 ],
 "metadata": {
  "kernelspec": {
   "display_name": "Python 3",
   "language": "python",
   "name": "python3"
  },
  "language_info": {
   "codemirror_mode": {
    "name": "ipython",
    "version": 3
   },
   "file_extension": ".py",
   "mimetype": "text/x-python",
   "name": "python",
   "nbconvert_exporter": "python",
   "pygments_lexer": "ipython3",
   "version": "3.5.6"
  }
 },
 "nbformat": 4,
 "nbformat_minor": 2
}
